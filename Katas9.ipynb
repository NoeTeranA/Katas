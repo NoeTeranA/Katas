{
 "cells": [
  {
   "cell_type": "code",
   "execution_count": null,
   "metadata": {},
   "outputs": [],
   "source": [
    "def generar_reporte(tanque_principal, tanque_secundario, tanque_reserva):\n",
    "    promedio_total = (tanque_principal + tanque_secundario + tanque_reserva) / 3\n",
    "    return f\"\"\"Reporte combustible:\n",
    "    Promedio total: {promedio_total}%\n",
    "    Tanque principal: {tanque_principal}%\n",
    "    Tanque secundario: {tanque_secundario}%\n",
    "    Tanque de reserva: {tanque_reserva}% \n",
    "    \"\"\""
   ]
  },
  {
   "cell_type": "code",
   "execution_count": null,
   "metadata": {},
   "outputs": [],
   "source": [
    "print(generar_reporte(80, 70, 72))"
   ]
  },
  {
   "cell_type": "code",
   "execution_count": null,
   "metadata": {},
   "outputs": [],
   "source": [
    "def promedio(valores):\n",
    "    total =sum(valores)\n",
    "    numero_items = len(valores)\n",
    "    return total / numero_items\n",
    "\n",
    "print(promedio([80, 75, 82]))"
   ]
  },
  {
   "cell_type": "code",
   "execution_count": 19,
   "metadata": {},
   "outputs": [
    {
     "name": "stdout",
     "output_type": "stream",
     "text": [
      "Reporte combustible:\n",
      "    Promedio total: 81.66666666666667%\n",
      "    Tanque principal: 80%\n",
      "    Tanque secundario: 75%\n",
      "    Tanque de reserva: 90% \n",
      "    \n"
     ]
    }
   ],
   "source": [
    "def generar_reporte(tanque_principal, tanque_secundario, tanque_reserva):\n",
    "    return f\"\"\"Reporte combustible:\n",
    "    Promedio total: {promedio([tanque_principal, tanque_secundario, tanque_reserva])}%\n",
    "    Tanque principal: {tanque_principal}%\n",
    "    Tanque secundario: {tanque_secundario}%\n",
    "    Tanque de reserva: {tanque_reserva}% \n",
    "    \"\"\"\n",
    "print(generar_reporte(80, 75, 90))"
   ]
  },
  {
   "cell_type": "code",
   "execution_count": 27,
   "metadata": {},
   "outputs": [
    {
     "name": "stdout",
     "output_type": "stream",
     "text": [
      "Rporte de misión:\n",
      "    Tiempo total: 315 minutos\n",
      "    Destino: Marte\n",
      "    Combustible: 160000 litros\n",
      "    \n"
     ]
    }
   ],
   "source": [
    "def reporte_mision(tiempo_prelanzamiento, tiempo_vuelo, destino_vuelo, tanque_externo, tanque_interno):\n",
    "    return f\"\"\"Rporte de misión:\n",
    "    Tiempo total: {tiempo_prelanzamiento + tiempo_vuelo} minutos\n",
    "    Destino: {destino_vuelo}\n",
    "    Combustible: {tanque_externo + tanque_interno} litros\n",
    "    \"\"\"\n",
    "print(reporte_mision(15, 300, \"Marte\", 150000, 10000))"
   ]
  },
  {
   "cell_type": "code",
   "execution_count": 32,
   "metadata": {},
   "outputs": [
    {
     "name": "stdout",
     "output_type": "stream",
     "text": [
      "Reporte de la misisón:\n",
      "    Tiempo total: 360 minutos\n",
      "    Destino: Marte\n",
      "    Combustble: 25000\n",
      "    \n"
     ]
    }
   ],
   "source": [
    "def reporte_mision(destino_vuelo, *tiempo, **combustible):\n",
    "    return f\"\"\"Reporte de la misisón:\n",
    "    Tiempo total: {sum(tiempo)} minutos\n",
    "    Destino: {destino_vuelo}\n",
    "    Combustble: {sum(combustible.values())}\n",
    "    \"\"\"\n",
    "print(reporte_mision('Marte', 15, 300, 45, interno=10000, externo=15000))"
   ]
  },
  {
   "cell_type": "code",
   "execution_count": 37,
   "metadata": {},
   "outputs": [
    {
     "name": "stdout",
     "output_type": "stream",
     "text": [
      "Reporte de la misisón:\n",
      "    Tiempo total: 360 minutos\n",
      "    Destino: Marte\n",
      "    Combustble: 25000\n",
      "    interno tanque 10000 litros \n",
      "externo tanque 15000 litros \n",
      "\n"
     ]
    }
   ],
   "source": [
    "def reporte_mision(destino_vuelo, *tiempo, **combustible):\n",
    "    reporte_principal = f\"\"\"Reporte de la misisón:\n",
    "    Tiempo total: {sum(tiempo)} minutos\n",
    "    Destino: {destino_vuelo}\n",
    "    Combustble: {sum(combustible.values())}\n",
    "    \"\"\"\n",
    "    for nombre_tanque, litros in combustible.items():\n",
    "        reporte_principal += f'{nombre_tanque} tanque {litros} litros \\n'\n",
    "    return reporte_principal\n",
    "\n",
    "print(reporte_mision('Marte', 15, 300, 45, interno=10000, externo=15000))"
   ]
  }
 ],
 "metadata": {
  "interpreter": {
   "hash": "1a1b370114a77099c34c6e1d20a537f5431012fc185551db3ddf57c58d1ee2d9"
  },
  "kernelspec": {
   "display_name": "Python 3.10.2 64-bit",
   "language": "python",
   "name": "python3"
  },
  "language_info": {
   "codemirror_mode": {
    "name": "ipython",
    "version": 3
   },
   "file_extension": ".py",
   "mimetype": "text/x-python",
   "name": "python",
   "nbconvert_exporter": "python",
   "pygments_lexer": "ipython3",
   "version": "3.10.2"
  },
  "orig_nbformat": 4
 },
 "nbformat": 4,
 "nbformat_minor": 2
}
