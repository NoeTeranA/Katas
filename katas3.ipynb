{
 "cells": [
  {
   "cell_type": "code",
   "execution_count": 2,
   "metadata": {},
   "outputs": [
    {
     "name": "stdout",
     "output_type": "stream",
     "text": [
      "CORRE\n"
     ]
    }
   ],
   "source": [
    "asteroide = 49\n",
    "if asteroide > 25:\n",
    "    print(\"CORRE\")\n",
    "else:\n",
    "    print(\"Que no cunda el pánico\")"
   ]
  },
  {
   "cell_type": "code",
   "execution_count": 3,
   "metadata": {},
   "outputs": [
    {
     "name": "stdout",
     "output_type": "stream",
     "text": [
      "don't even bother\n"
     ]
    }
   ],
   "source": [
    "asteroide = 19\n",
    "if asteroide > 20:\n",
    "    print(\"Look up in the sky\")\n",
    "elif asteroide == 20:\n",
    "    print(\"Look up in the sky\")\n",
    "else:\n",
    "    print(\"don't even bother\")"
   ]
  },
  {
   "cell_type": "code",
   "execution_count": 7,
   "metadata": {},
   "outputs": [
    {
     "name": "stdout",
     "output_type": "stream",
     "text": [
      "Corre por tu vida\n"
     ]
    }
   ],
   "source": [
    "tamaño_asteroide = 30\n",
    "velocidad_asteroide = 24\n",
    "if tamaño_asteroide > 25 and tamaño_asteroide > 25:\n",
    "    print(\"Corre por tu vida\")\n",
    "elif velocidad_asteroide > 20:\n",
    "    print(\"Look up in the sky\")\n",
    "elif velocidad_asteroide < 20:\n",
    "    print(\"don't even bother\")\n",
    "else:\n",
    "    print(\"don't even bother\")"
   ]
  }
 ],
 "metadata": {
  "interpreter": {
   "hash": "224334bd7a73165eb9b628b3bf707695d030f25d814fe1dc86f2f5dd4852f477"
  },
  "kernelspec": {
   "display_name": "Python 3.10.2 64-bit (windows store)",
   "language": "python",
   "name": "python3"
  },
  "language_info": {
   "codemirror_mode": {
    "name": "ipython",
    "version": 3
   },
   "file_extension": ".py",
   "mimetype": "text/x-python",
   "name": "python",
   "nbconvert_exporter": "python",
   "pygments_lexer": "ipython3",
   "version": "3.10.2"
  },
  "orig_nbformat": 4
 },
 "nbformat": 4,
 "nbformat_minor": 2
}
